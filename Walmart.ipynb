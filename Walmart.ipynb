{
 "cells": [
  {
   "cell_type": "markdown",
   "metadata": {
    "collapsed": true
   },
   "source": [
    "<h1>Práctica de Fundamentos de Data Science</h1>\n",
    "<p/>\n",
    "<table border>\n",
    "<tr><td>Alumno</td><td>email</td><td>Teléfono</td></ur>\n",
    "<tr><td>José María Álvarez</td><td>josemaria.alvarezfernandez@elcorteingles.es</td><td>+34 647 471 225</td></ur>\n",
    "<tr><td>Adolfo González</td><td>adolfo.gonzalez@elcorteingles.es</td><td>+34 673 333 347</td></ur>\n",
    "<tr><td>César Colado</td><td>cesar.colado@elcorteingles.es</td><td>+34 661 415 555</td></ur>\n",
    "</table>"
   ]
  },
  {
   "cell_type": "markdown",
   "metadata": {},
   "source": [
    "<h1>Días de venta especial en un 'retailer'</h1>\n",
    "<p/>\n",
    "En un retailer como <b1>El Corte Inglés</b1>, llamamos días de venta especial a períodos como la camapaña navideña, la Semana Santa, un Black Friday, Las Rebajas de Enero, etc.\n",
    "<p/>\n",
    "Durante estos períodos la venta suele múltiplicarse, pero no es siempre lineal y la tendencia no siempre es fácil de predecir. Son muchas las incógnitas que debemos resolver para poder estimar el 'stock' del que se debe hacer provisión en la tienda, el número de empleados que debemos tener en cada departamento en los días de más afluencia de clientes, número de servidores o ancho de banda que debemos tener preparados para resolver toda la demanda online, etc.\n",
    "<p/>\n",
    "Como es de nuestro interés, hemos seleccionado un conjunto de datos de una empresa de retail 'un poco' mayor que El Corte Inglés, con origen en Estados Unidos y que se enfrenta a problemas similares."
   ]
  },
  {
   "cell_type": "markdown",
   "metadata": {},
   "source": [
    "<img src='http://media.graytvinc.com/images/810*455/WRM+Walmart+WEB.jpg' alt='Walmart' height='400' width='4000'>\n"
   ]
  },
  {
   "cell_type": "markdown",
   "metadata": {},
   "source": [
    "Walmart es un 'retailer' con origen en Estados Unidos que emplea a más de dos millones de empleados. Como El Corte Inglés, se enfrenta a un desafío en cada período de venta especial para dimensionar sus recursos de forma eficiente."
   ]
  },
  {
   "cell_type": "markdown",
   "metadata": {},
   "source": [
    "<img src=\"https://boygeniusreport.files.wordpress.com/2015/11/black-friday-shoppers1.jpg?quality=98&strip=all\"\n",
    "alt=\"Recursos mal estimados en Walmart\"/>"
   ]
  },
  {
   "cell_type": "markdown",
   "metadata": {},
   "source": [
    "Hemos conseguido un conjunto de datos de Walmart que trataremos de utilizar para hacer un análisis de las necesidades de este \"retailer\" en periódos de venta especial.</p>\n",
    "<a target=\"_blank\" href=\"https://www.kaggle.com/c/walmart-recruiting-store-sales-forecasting\">Datos de Walmart</a>"
   ]
  },
  {
   "cell_type": "markdown",
   "metadata": {},
   "source": [
    "¿Cómo abordar este problema de negocio? La propuesta es aprender de los datos, mediante minería de datos y descubrimiento de conocimiento, para lo que aplicaremos la metodología estándar de facto: \n",
    "<p>CRISP-DM</p> (\"Cross Industry Standard Process for Data Mining\")<p/>\n",
    "<img src=\"https://upload.wikimedia.org/wikipedia/commons/thumb/b/b9/CRISP-DM_Process_Diagram.png/1024px-CRISP-DM_Process_Diagram.png\" alt=\"diagrama explicativo de CRISP-DM\" height=\"400\" width=\"400\"/><p/>\n",
    "Esta metodología iterativa, diferencia seis fases en cada ciclo, a saber:<p/>\n",
    "<li>Comprensión del negocio</li>\n",
    "<li>Comprensión de datos</li>\n",
    "<li>Preparación de datos</li>\n",
    "<li>Modelado</li>\n",
    "<li>Evaluación</li>\n",
    "<li>Despliegue</li>\n"
   ]
  },
  {
   "cell_type": "markdown",
   "metadata": {},
   "source": [
    "<h1>Fase I. Comprensión del negocio</h1>\n",
    "//FIXME.ccolado Relacionar con la primera parte y la comprensión de los datos de la fase II\n",
    "\n",
    "El objetivo es tratar de ser capaces de tener una previsión de ventas para poder hacer el acopio de recursos que necesitamos por tienda y departamento.\n"
   ]
  },
  {
   "cell_type": "markdown",
   "metadata": {},
   "source": [
    "<h1>Fase II. Comprensión de los datos</h1>\n",
    "\n",
    "Tenemos datos de 45 tiendas localizadas en diferentes zonas geográficas. En cada tienda tenemos unos departamentos concretos. Además, tendremos en cuenta ciertas acciones promocionales que Walmart lleva a cabo a lo largo del año. En Estados Unidos las principales periodos promocionales son:\n",
    "<ol>\n",
    "<li>Super Bowl. Como aquí la final de la Copa del Rey</li>\n",
    "<li>El día del trabajo</li>\n",
    "<li>Acción de Gracias. Es cuando comen el pavo y se juntan en familia</li>\n",
    "<li>Navidad. Pues eso, Navidad</li>\n",
    "</ol>\n",
    "<p/>\n",
    "Las semanas que incluyen estos períodos se les da un peso cinco veces mayor que al resto.\n",
    "<p/>\n",
    "Tenemos cuatro ficheros de datos:\n",
    "<ol type=A>\n",
    "<li>stores.csv - Información anónima sobre 45 tiendas, con tipo y tamaño de la tienda</li>\n",
    "<li>train.csv - Datos históricos que cubren desde el 05/02/2010 hasta el 01/11/2012. Estos datos incluyen la tienda, el departamento, la semana de venta y la venta de esa semana. Además, también se incluye una marca que nos indica si era o no una semana festiva.</li>\n",
    "<li>features.csv - Datos adicionales relativos a la tienda, con información como la temperatura, el precio de la gasolina, el precio de índice al consumo y la tasa de desempleo por semana.</li>\n",
    "</ol>\n",
    "\n",
    "Para poder acceder a los datos de forma sencilla, hemos subido los ficheros que nos facilita Kaggle a un proyecto de GitHub. \n",
    "\n",
    "El proyecto lo puedes encontrar en el siguiente enlace: https://github.com/ccolado/master-big-data-walmart\n",
    "El objetivo es que sea sencillo acceder a los ficheros planos con los datos en formato raw, que encontrarás en los siguientes enlaces:\n",
    "\n",
    "<table class=\"egt\">\n",
    "  <tr>\n",
    "    <td>stores.csv</td><td>https://raw.githubusercontent.com/ccolado/master-big-data-walmart/master/walmart-data/stores.csv</td>\n",
    "  </tr>\n",
    "  <tr>\n",
    "    <td>train.csv</td><td>https://raw.githubusercontent.com/ccolado/master-big-data-walmart/master/walmart-data/train.csv</td>\n",
    "  </tr>\n",
    "  <tr>\n",
    "    <td>features.csv</td><td>https://raw.githubusercontent.com/ccolado/master-big-data-walmart/master/walmart-data/features.csv</td>\n",
    "  </tr>\n",
    "</table>"
   ]
  },
  {
   "cell_type": "markdown",
   "metadata": {},
   "source": [
    "<h1>Fase III. Preparación de datos</h1>"
   ]
  },
  {
   "cell_type": "markdown",
   "metadata": {},
   "source": [
    "Comenzaremos por el primer fichero, los datos maestros de tienda. Lo cargaremos desde el proyecto de GitHUb donde no es necesario autenticarse para cargarlo y revisaremos los datos que tenemos. \n",
    "\n",
    "Recuerda que tenemos datos de 45 tiendas y que en este fichero tenemos el tipo de tienda y un número que nos da una idea del tamaño de la tienda. El fichero tiene cabeceras y es un CSV (Comma Separated Values), por lo que indicaremos eso al cargar el fichero en nuestro dataFrame:"
   ]
  },
  {
   "cell_type": "code",
   "execution_count": 1,
   "metadata": {},
   "outputs": [
    {
     "data": {
      "text/html": [
       "<div>\n",
       "<style>\n",
       "    .dataframe thead tr:only-child th {\n",
       "        text-align: right;\n",
       "    }\n",
       "\n",
       "    .dataframe thead th {\n",
       "        text-align: left;\n",
       "    }\n",
       "\n",
       "    .dataframe tbody tr th {\n",
       "        vertical-align: top;\n",
       "    }\n",
       "</style>\n",
       "<table border=\"1\" class=\"dataframe\">\n",
       "  <thead>\n",
       "    <tr style=\"text-align: right;\">\n",
       "      <th></th>\n",
       "      <th>Store</th>\n",
       "      <th>Type</th>\n",
       "      <th>Size</th>\n",
       "    </tr>\n",
       "  </thead>\n",
       "  <tbody>\n",
       "    <tr>\n",
       "      <th>0</th>\n",
       "      <td>1</td>\n",
       "      <td>A</td>\n",
       "      <td>151315</td>\n",
       "    </tr>\n",
       "    <tr>\n",
       "      <th>1</th>\n",
       "      <td>2</td>\n",
       "      <td>A</td>\n",
       "      <td>202307</td>\n",
       "    </tr>\n",
       "    <tr>\n",
       "      <th>2</th>\n",
       "      <td>3</td>\n",
       "      <td>B</td>\n",
       "      <td>37392</td>\n",
       "    </tr>\n",
       "  </tbody>\n",
       "</table>\n",
       "</div>"
      ],
      "text/plain": [
       "   Store Type    Size\n",
       "0      1    A  151315\n",
       "1      2    A  202307\n",
       "2      3    B   37392"
      ]
     },
     "execution_count": 1,
     "metadata": {},
     "output_type": "execute_result"
    }
   ],
   "source": [
    "import pandas as pd\n",
    "url = \"https://raw.githubusercontent.com/ccolado/master-big-data-walmart/master/walmart-data/stores.csv\"\n",
    "stores = pd.read_table(url,sep=',')\n",
    "stores.head(3)"
   ]
  },
  {
   "cell_type": "markdown",
   "metadata": {},
   "source": [
    "Entre los datos de tienda no parece haber ninguno vacío, pero comprobaremos cuántas tiendas diferentes hemos cargado para estar seguros de que tenemos las 45."
   ]
  },
  {
   "cell_type": "code",
   "execution_count": 2,
   "metadata": {},
   "outputs": [
    {
     "data": {
      "text/plain": [
       "45"
      ]
     },
     "execution_count": 2,
     "metadata": {},
     "output_type": "execute_result"
    }
   ],
   "source": [
    "stores.Store.count()"
   ]
  },
  {
   "cell_type": "markdown",
   "metadata": {},
   "source": [
    "Revisemos que no tenemos información repetida de tiendas:"
   ]
  },
  {
   "cell_type": "code",
   "execution_count": 3,
   "metadata": {},
   "outputs": [
    {
     "data": {
      "text/plain": [
       "45"
      ]
     },
     "execution_count": 3,
     "metadata": {},
     "output_type": "execute_result"
    }
   ],
   "source": [
    "len(stores.Store.unique())"
   ]
  },
  {
   "cell_type": "markdown",
   "metadata": {},
   "source": [
    "¡Genial! Tenemos 45 tiendas. Dado que están anonimizadas, no tienemos información de por ejemplo la tienda \"Castellana\" o \"Diagonal\". Las tiendas se identifican con un número: tienda 1, tienda 2, ... tienda 45. El índice que nos ha aplicado la función de carga es estándar en python, comienza en 0 y termina en 44. <p/>\n",
    "Nos va a resultar mucho más sencillo para referirnos a una tienda indexar por su número de tienda, es decir, indexar por tienda 1 para saber el tamaño o su tipo. Por este motivo modificaremos el índice para colocar el número de tienda como índice en nuestro df: stores"
   ]
  },
  {
   "cell_type": "code",
   "execution_count": 4,
   "metadata": {},
   "outputs": [
    {
     "data": {
      "text/html": [
       "<div>\n",
       "<style>\n",
       "    .dataframe thead tr:only-child th {\n",
       "        text-align: right;\n",
       "    }\n",
       "\n",
       "    .dataframe thead th {\n",
       "        text-align: left;\n",
       "    }\n",
       "\n",
       "    .dataframe tbody tr th {\n",
       "        vertical-align: top;\n",
       "    }\n",
       "</style>\n",
       "<table border=\"1\" class=\"dataframe\">\n",
       "  <thead>\n",
       "    <tr style=\"text-align: right;\">\n",
       "      <th></th>\n",
       "      <th>Store</th>\n",
       "      <th>Type</th>\n",
       "      <th>Size</th>\n",
       "    </tr>\n",
       "    <tr>\n",
       "      <th>Store</th>\n",
       "      <th></th>\n",
       "      <th></th>\n",
       "      <th></th>\n",
       "    </tr>\n",
       "  </thead>\n",
       "  <tbody>\n",
       "    <tr>\n",
       "      <th>1</th>\n",
       "      <td>1</td>\n",
       "      <td>A</td>\n",
       "      <td>151315</td>\n",
       "    </tr>\n",
       "    <tr>\n",
       "      <th>2</th>\n",
       "      <td>2</td>\n",
       "      <td>A</td>\n",
       "      <td>202307</td>\n",
       "    </tr>\n",
       "    <tr>\n",
       "      <th>3</th>\n",
       "      <td>3</td>\n",
       "      <td>B</td>\n",
       "      <td>37392</td>\n",
       "    </tr>\n",
       "  </tbody>\n",
       "</table>\n",
       "</div>"
      ],
      "text/plain": [
       "       Store Type    Size\n",
       "Store                    \n",
       "1          1    A  151315\n",
       "2          2    A  202307\n",
       "3          3    B   37392"
      ]
     },
     "execution_count": 4,
     "metadata": {},
     "output_type": "execute_result"
    }
   ],
   "source": [
    "stores.index = stores.Store\n",
    "stores.head(3)"
   ]
  },
  {
   "cell_type": "markdown",
   "metadata": {},
   "source": [
    "El tamaño que nos han dado es en pies cuadrados y para hacernos mejor idea, e interpretar los datos mucho mejor, lo pasaremos a metros cuadrados:"
   ]
  },
  {
   "cell_type": "code",
   "execution_count": 5,
   "metadata": {},
   "outputs": [
    {
     "data": {
      "text/html": [
       "<div>\n",
       "<style>\n",
       "    .dataframe thead tr:only-child th {\n",
       "        text-align: right;\n",
       "    }\n",
       "\n",
       "    .dataframe thead th {\n",
       "        text-align: left;\n",
       "    }\n",
       "\n",
       "    .dataframe tbody tr th {\n",
       "        vertical-align: top;\n",
       "    }\n",
       "</style>\n",
       "<table border=\"1\" class=\"dataframe\">\n",
       "  <thead>\n",
       "    <tr style=\"text-align: right;\">\n",
       "      <th></th>\n",
       "      <th>Store</th>\n",
       "      <th>Type</th>\n",
       "      <th>Size</th>\n",
       "    </tr>\n",
       "    <tr>\n",
       "      <th>Store</th>\n",
       "      <th></th>\n",
       "      <th></th>\n",
       "      <th></th>\n",
       "    </tr>\n",
       "  </thead>\n",
       "  <tbody>\n",
       "    <tr>\n",
       "      <th>1</th>\n",
       "      <td>1</td>\n",
       "      <td>A</td>\n",
       "      <td>14057.617445</td>\n",
       "    </tr>\n",
       "    <tr>\n",
       "      <th>2</th>\n",
       "      <td>2</td>\n",
       "      <td>A</td>\n",
       "      <td>18794.927221</td>\n",
       "    </tr>\n",
       "    <tr>\n",
       "      <th>3</th>\n",
       "      <td>3</td>\n",
       "      <td>B</td>\n",
       "      <td>3473.828976</td>\n",
       "    </tr>\n",
       "  </tbody>\n",
       "</table>\n",
       "</div>"
      ],
      "text/plain": [
       "       Store Type          Size\n",
       "Store                          \n",
       "1          1    A  14057.617445\n",
       "2          2    A  18794.927221\n",
       "3          3    B   3473.828976"
      ]
     },
     "execution_count": 5,
     "metadata": {},
     "output_type": "execute_result"
    }
   ],
   "source": [
    "stores.Size = stores.Size * 0.092903\n",
    "stores.head(3)"
   ]
  },
  {
   "cell_type": "markdown",
   "metadata": {},
   "source": [
    "Por curiosidad, averigüemos el tamaño medio de nuestras tiendas:"
   ]
  },
  {
   "cell_type": "code",
   "execution_count": 6,
   "metadata": {},
   "outputs": [
    {
     "data": {
      "text/plain": [
       "12104.108902799995"
      ]
     },
     "execution_count": 6,
     "metadata": {},
     "output_type": "execute_result"
    }
   ],
   "source": [
    "stores.Size.mean()"
   ]
  },
  {
   "cell_type": "markdown",
   "metadata": {},
   "source": [
    "La media de las muestras que tenemos es de 12.104 metros cuadrados. Y tenemos tiendas de tipo A, tipo B y tipo C"
   ]
  },
  {
   "cell_type": "code",
   "execution_count": 7,
   "metadata": {},
   "outputs": [
    {
     "data": {
      "text/plain": [
       "count     45\n",
       "unique     3\n",
       "top        A\n",
       "freq      22\n",
       "Name: Type, dtype: object"
      ]
     },
     "execution_count": 7,
     "metadata": {},
     "output_type": "execute_result"
    }
   ],
   "source": [
    "stores.Type.describe()"
   ]
  },
  {
   "cell_type": "markdown",
   "metadata": {},
   "source": [
    "¿Cuántas tiendas tenemos de tipo A? ¿cuántas de tipo B? ¿cuántas de tipo C?"
   ]
  },
  {
   "cell_type": "code",
   "execution_count": 8,
   "metadata": {},
   "outputs": [
    {
     "data": {
      "text/html": [
       "<div>\n",
       "<style>\n",
       "    .dataframe thead tr:only-child th {\n",
       "        text-align: right;\n",
       "    }\n",
       "\n",
       "    .dataframe thead th {\n",
       "        text-align: left;\n",
       "    }\n",
       "\n",
       "    .dataframe tbody tr th {\n",
       "        vertical-align: top;\n",
       "    }\n",
       "</style>\n",
       "<table border=\"1\" class=\"dataframe\">\n",
       "  <thead>\n",
       "    <tr style=\"text-align: right;\">\n",
       "      <th></th>\n",
       "      <th>Store</th>\n",
       "    </tr>\n",
       "    <tr>\n",
       "      <th>Type</th>\n",
       "      <th></th>\n",
       "    </tr>\n",
       "  </thead>\n",
       "  <tbody>\n",
       "    <tr>\n",
       "      <th>A</th>\n",
       "      <td>22</td>\n",
       "    </tr>\n",
       "    <tr>\n",
       "      <th>B</th>\n",
       "      <td>17</td>\n",
       "    </tr>\n",
       "    <tr>\n",
       "      <th>C</th>\n",
       "      <td>6</td>\n",
       "    </tr>\n",
       "  </tbody>\n",
       "</table>\n",
       "</div>"
      ],
      "text/plain": [
       "      Store\n",
       "Type       \n",
       "A        22\n",
       "B        17\n",
       "C         6"
      ]
     },
     "execution_count": 8,
     "metadata": {},
     "output_type": "execute_result"
    }
   ],
   "source": [
    "grouped = stores[['Type','Store']].groupby('Type').count()\n",
    "grouped"
   ]
  },
  {
   "cell_type": "markdown",
   "metadata": {},
   "source": [
    "Para poder hacer algunas agrupaciones, vamos también a crear un objeto dataFrame utilizando un multi-índice. Para ello construiremos el índice con el tipo de tienda y el número de tienda y le llamaremos \"stores_by_type\"."
   ]
  },
  {
   "cell_type": "code",
   "execution_count": 11,
   "metadata": {},
   "outputs": [
    {
     "data": {
      "text/html": [
       "<div>\n",
       "<style>\n",
       "    .dataframe thead tr:only-child th {\n",
       "        text-align: right;\n",
       "    }\n",
       "\n",
       "    .dataframe thead th {\n",
       "        text-align: left;\n",
       "    }\n",
       "\n",
       "    .dataframe tbody tr th {\n",
       "        vertical-align: top;\n",
       "    }\n",
       "</style>\n",
       "<table border=\"1\" class=\"dataframe\">\n",
       "  <thead>\n",
       "    <tr style=\"text-align: right;\">\n",
       "      <th></th>\n",
       "      <th>Store</th>\n",
       "      <th>Type</th>\n",
       "      <th>Size</th>\n",
       "    </tr>\n",
       "    <tr>\n",
       "      <th>Store</th>\n",
       "      <th></th>\n",
       "      <th></th>\n",
       "      <th></th>\n",
       "    </tr>\n",
       "  </thead>\n",
       "  <tbody>\n",
       "    <tr>\n",
       "      <th>1</th>\n",
       "      <td>1</td>\n",
       "      <td>A</td>\n",
       "      <td>14057.617445</td>\n",
       "    </tr>\n",
       "    <tr>\n",
       "      <th>2</th>\n",
       "      <td>2</td>\n",
       "      <td>A</td>\n",
       "      <td>18794.927221</td>\n",
       "    </tr>\n",
       "    <tr>\n",
       "      <th>4</th>\n",
       "      <td>4</td>\n",
       "      <td>A</td>\n",
       "      <td>19125.290289</td>\n",
       "    </tr>\n",
       "    <tr>\n",
       "      <th>6</th>\n",
       "      <td>6</td>\n",
       "      <td>A</td>\n",
       "      <td>18813.322015</td>\n",
       "    </tr>\n",
       "    <tr>\n",
       "      <th>8</th>\n",
       "      <td>8</td>\n",
       "      <td>A</td>\n",
       "      <td>14407.211434</td>\n",
       "    </tr>\n",
       "    <tr>\n",
       "      <th>11</th>\n",
       "      <td>11</td>\n",
       "      <td>A</td>\n",
       "      <td>19277.279597</td>\n",
       "    </tr>\n",
       "    <tr>\n",
       "      <th>13</th>\n",
       "      <td>13</td>\n",
       "      <td>A</td>\n",
       "      <td>20403.542666</td>\n",
       "    </tr>\n",
       "    <tr>\n",
       "      <th>14</th>\n",
       "      <td>14</td>\n",
       "      <td>A</td>\n",
       "      <td>18664.026894</td>\n",
       "    </tr>\n",
       "    <tr>\n",
       "      <th>19</th>\n",
       "      <td>19</td>\n",
       "      <td>A</td>\n",
       "      <td>18935.396557</td>\n",
       "    </tr>\n",
       "    <tr>\n",
       "      <th>20</th>\n",
       "      <td>20</td>\n",
       "      <td>A</td>\n",
       "      <td>18928.243026</td>\n",
       "    </tr>\n",
       "    <tr>\n",
       "      <th>24</th>\n",
       "      <td>24</td>\n",
       "      <td>A</td>\n",
       "      <td>18935.396557</td>\n",
       "    </tr>\n",
       "    <tr>\n",
       "      <th>26</th>\n",
       "      <td>26</td>\n",
       "      <td>A</td>\n",
       "      <td>14168.915239</td>\n",
       "    </tr>\n",
       "    <tr>\n",
       "      <th>27</th>\n",
       "      <td>27</td>\n",
       "      <td>A</td>\n",
       "      <td>18969.306152</td>\n",
       "    </tr>\n",
       "    <tr>\n",
       "      <th>28</th>\n",
       "      <td>28</td>\n",
       "      <td>A</td>\n",
       "      <td>19166.074706</td>\n",
       "    </tr>\n",
       "    <tr>\n",
       "      <th>31</th>\n",
       "      <td>31</td>\n",
       "      <td>A</td>\n",
       "      <td>18928.986250</td>\n",
       "    </tr>\n",
       "    <tr>\n",
       "      <th>32</th>\n",
       "      <td>32</td>\n",
       "      <td>A</td>\n",
       "      <td>18859.959321</td>\n",
       "    </tr>\n",
       "    <tr>\n",
       "      <th>33</th>\n",
       "      <td>33</td>\n",
       "      <td>A</td>\n",
       "      <td>3687.320070</td>\n",
       "    </tr>\n",
       "    <tr>\n",
       "      <th>34</th>\n",
       "      <td>34</td>\n",
       "      <td>A</td>\n",
       "      <td>14689.264942</td>\n",
       "    </tr>\n",
       "    <tr>\n",
       "      <th>36</th>\n",
       "      <td>36</td>\n",
       "      <td>A</td>\n",
       "      <td>3707.758730</td>\n",
       "    </tr>\n",
       "    <tr>\n",
       "      <th>39</th>\n",
       "      <td>39</td>\n",
       "      <td>A</td>\n",
       "      <td>17104.278427</td>\n",
       "    </tr>\n",
       "    <tr>\n",
       "      <th>40</th>\n",
       "      <td>40</td>\n",
       "      <td>A</td>\n",
       "      <td>14407.675949</td>\n",
       "    </tr>\n",
       "    <tr>\n",
       "      <th>41</th>\n",
       "      <td>41</td>\n",
       "      <td>A</td>\n",
       "      <td>18238.809863</td>\n",
       "    </tr>\n",
       "    <tr>\n",
       "      <th>3</th>\n",
       "      <td>3</td>\n",
       "      <td>B</td>\n",
       "      <td>3473.828976</td>\n",
       "    </tr>\n",
       "    <tr>\n",
       "      <th>5</th>\n",
       "      <td>5</td>\n",
       "      <td>B</td>\n",
       "      <td>3239.992125</td>\n",
       "    </tr>\n",
       "    <tr>\n",
       "      <th>7</th>\n",
       "      <td>7</td>\n",
       "      <td>B</td>\n",
       "      <td>6569.449839</td>\n",
       "    </tr>\n",
       "    <tr>\n",
       "      <th>9</th>\n",
       "      <td>9</td>\n",
       "      <td>B</td>\n",
       "      <td>11690.263199</td>\n",
       "    </tr>\n",
       "    <tr>\n",
       "      <th>10</th>\n",
       "      <td>10</td>\n",
       "      <td>B</td>\n",
       "      <td>11753.344336</td>\n",
       "    </tr>\n",
       "    <tr>\n",
       "      <th>12</th>\n",
       "      <td>12</td>\n",
       "      <td>B</td>\n",
       "      <td>10427.246914</td>\n",
       "    </tr>\n",
       "    <tr>\n",
       "      <th>15</th>\n",
       "      <td>15</td>\n",
       "      <td>B</td>\n",
       "      <td>11495.538511</td>\n",
       "    </tr>\n",
       "    <tr>\n",
       "      <th>16</th>\n",
       "      <td>16</td>\n",
       "      <td>B</td>\n",
       "      <td>5313.772891</td>\n",
       "    </tr>\n",
       "    <tr>\n",
       "      <th>17</th>\n",
       "      <td>17</td>\n",
       "      <td>B</td>\n",
       "      <td>8657.444764</td>\n",
       "    </tr>\n",
       "    <tr>\n",
       "      <th>18</th>\n",
       "      <td>18</td>\n",
       "      <td>B</td>\n",
       "      <td>11209.025659</td>\n",
       "    </tr>\n",
       "    <tr>\n",
       "      <th>21</th>\n",
       "      <td>21</td>\n",
       "      <td>B</td>\n",
       "      <td>13021.934801</td>\n",
       "    </tr>\n",
       "    <tr>\n",
       "      <th>22</th>\n",
       "      <td>22</td>\n",
       "      <td>B</td>\n",
       "      <td>11107.203971</td>\n",
       "    </tr>\n",
       "    <tr>\n",
       "      <th>23</th>\n",
       "      <td>23</td>\n",
       "      <td>B</td>\n",
       "      <td>10640.459299</td>\n",
       "    </tr>\n",
       "    <tr>\n",
       "      <th>25</th>\n",
       "      <td>25</td>\n",
       "      <td>B</td>\n",
       "      <td>11901.524621</td>\n",
       "    </tr>\n",
       "    <tr>\n",
       "      <th>29</th>\n",
       "      <td>29</td>\n",
       "      <td>B</td>\n",
       "      <td>8699.251114</td>\n",
       "    </tr>\n",
       "    <tr>\n",
       "      <th>35</th>\n",
       "      <td>35</td>\n",
       "      <td>B</td>\n",
       "      <td>9632.275943</td>\n",
       "    </tr>\n",
       "    <tr>\n",
       "      <th>45</th>\n",
       "      <td>45</td>\n",
       "      <td>B</td>\n",
       "      <td>10983.085563</td>\n",
       "    </tr>\n",
       "    <tr>\n",
       "      <th>30</th>\n",
       "      <td>30</td>\n",
       "      <td>C</td>\n",
       "      <td>3993.714164</td>\n",
       "    </tr>\n",
       "    <tr>\n",
       "      <th>37</th>\n",
       "      <td>37</td>\n",
       "      <td>C</td>\n",
       "      <td>3707.758730</td>\n",
       "    </tr>\n",
       "    <tr>\n",
       "      <th>38</th>\n",
       "      <td>38</td>\n",
       "      <td>C</td>\n",
       "      <td>3687.320070</td>\n",
       "    </tr>\n",
       "    <tr>\n",
       "      <th>42</th>\n",
       "      <td>42</td>\n",
       "      <td>C</td>\n",
       "      <td>3687.320070</td>\n",
       "    </tr>\n",
       "    <tr>\n",
       "      <th>43</th>\n",
       "      <td>43</td>\n",
       "      <td>C</td>\n",
       "      <td>3814.782986</td>\n",
       "    </tr>\n",
       "    <tr>\n",
       "      <th>44</th>\n",
       "      <td>44</td>\n",
       "      <td>C</td>\n",
       "      <td>3707.758730</td>\n",
       "    </tr>\n",
       "  </tbody>\n",
       "</table>\n",
       "</div>"
      ],
      "text/plain": [
       "       Store Type          Size\n",
       "Store                          \n",
       "1          1    A  14057.617445\n",
       "2          2    A  18794.927221\n",
       "4          4    A  19125.290289\n",
       "6          6    A  18813.322015\n",
       "8          8    A  14407.211434\n",
       "11        11    A  19277.279597\n",
       "13        13    A  20403.542666\n",
       "14        14    A  18664.026894\n",
       "19        19    A  18935.396557\n",
       "20        20    A  18928.243026\n",
       "24        24    A  18935.396557\n",
       "26        26    A  14168.915239\n",
       "27        27    A  18969.306152\n",
       "28        28    A  19166.074706\n",
       "31        31    A  18928.986250\n",
       "32        32    A  18859.959321\n",
       "33        33    A   3687.320070\n",
       "34        34    A  14689.264942\n",
       "36        36    A   3707.758730\n",
       "39        39    A  17104.278427\n",
       "40        40    A  14407.675949\n",
       "41        41    A  18238.809863\n",
       "3          3    B   3473.828976\n",
       "5          5    B   3239.992125\n",
       "7          7    B   6569.449839\n",
       "9          9    B  11690.263199\n",
       "10        10    B  11753.344336\n",
       "12        12    B  10427.246914\n",
       "15        15    B  11495.538511\n",
       "16        16    B   5313.772891\n",
       "17        17    B   8657.444764\n",
       "18        18    B  11209.025659\n",
       "21        21    B  13021.934801\n",
       "22        22    B  11107.203971\n",
       "23        23    B  10640.459299\n",
       "25        25    B  11901.524621\n",
       "29        29    B   8699.251114\n",
       "35        35    B   9632.275943\n",
       "45        45    B  10983.085563\n",
       "30        30    C   3993.714164\n",
       "37        37    C   3707.758730\n",
       "38        38    C   3687.320070\n",
       "42        42    C   3687.320070\n",
       "43        43    C   3814.782986\n",
       "44        44    C   3707.758730"
      ]
     },
     "execution_count": 11,
     "metadata": {},
     "output_type": "execute_result"
    }
   ],
   "source": [
    "stores = stores.sort_values(['Type','Store'], ascending=True)\n",
    "stores"
   ]
  },
  {
   "cell_type": "code",
   "execution_count": 12,
   "metadata": {},
   "outputs": [
    {
     "data": {
      "text/plain": [
       "Type  Store\n",
       "A     1        14057.617445\n",
       "      2        18794.927221\n",
       "      4        19125.290289\n",
       "      6        18813.322015\n",
       "      8        14407.211434\n",
       "      11       19277.279597\n",
       "      13       20403.542666\n",
       "      14       18664.026894\n",
       "      19       18935.396557\n",
       "      20       18928.243026\n",
       "      24       18935.396557\n",
       "      26       14168.915239\n",
       "      27       18969.306152\n",
       "      28       19166.074706\n",
       "      31       18928.986250\n",
       "      32       18859.959321\n",
       "      33        3687.320070\n",
       "      34       14689.264942\n",
       "      36        3707.758730\n",
       "      39       17104.278427\n",
       "      40       14407.675949\n",
       "      41       18238.809863\n",
       "B     3         3473.828976\n",
       "      5         3239.992125\n",
       "      7         6569.449839\n",
       "      9        11690.263199\n",
       "      10       11753.344336\n",
       "      12       10427.246914\n",
       "      15       11495.538511\n",
       "      16        5313.772891\n",
       "      17        8657.444764\n",
       "      18       11209.025659\n",
       "      21       13021.934801\n",
       "      22       11107.203971\n",
       "      23       10640.459299\n",
       "      25       11901.524621\n",
       "      29        8699.251114\n",
       "      35        9632.275943\n",
       "      45       10983.085563\n",
       "C     30        3993.714164\n",
       "      37        3707.758730\n",
       "      38        3687.320070\n",
       "      42        3687.320070\n",
       "      43        3814.782986\n",
       "      44        3707.758730\n",
       "Name: Size, dtype: float64"
      ]
     },
     "execution_count": 12,
     "metadata": {},
     "output_type": "execute_result"
    }
   ],
   "source": [
    "multi_index = pd.MultiIndex.from_arrays([stores.Type,stores.Store],names=['Type','Store'])\n",
    "stores_by_type = stores.Size\n",
    "stores_by_type.index=multi_index\n",
    "stores_by_type"
   ]
  },
  {
   "cell_type": "code",
   "execution_count": 13,
   "metadata": {},
   "outputs": [
    {
     "data": {
      "text/plain": [
       "count       22.000000\n",
       "mean     16466.845607\n",
       "std       4588.722678\n",
       "min       3687.320070\n",
       "25%      14478.073197\n",
       "50%      18804.124618\n",
       "75%      18935.396557\n",
       "max      20403.542666\n",
       "Name: Size, dtype: float64"
      ]
     },
     "execution_count": 13,
     "metadata": {},
     "output_type": "execute_result"
    }
   ],
   "source": [
    "stores_by_type['A'].describe()"
   ]
  },
  {
   "cell_type": "code",
   "execution_count": 14,
   "metadata": {},
   "outputs": [
    {
     "data": {
      "text/plain": [
       "count       17.000000\n",
       "mean      9400.920149\n",
       "std       3007.375826\n",
       "min       3239.992125\n",
       "25%       8657.444764\n",
       "50%      10640.459299\n",
       "75%      11495.538511\n",
       "max      13021.934801\n",
       "Name: Size, dtype: float64"
      ]
     },
     "execution_count": 14,
     "metadata": {},
     "output_type": "execute_result"
    }
   ],
   "source": [
    "stores_by_type['B'].describe()"
   ]
  },
  {
   "cell_type": "code",
   "execution_count": 15,
   "metadata": {},
   "outputs": [
    {
     "data": {
      "text/plain": [
       "count       6.000000\n",
       "mean     3766.442458\n",
       "std       121.158986\n",
       "min      3687.320070\n",
       "25%      3692.429735\n",
       "50%      3707.758730\n",
       "75%      3788.026922\n",
       "max      3993.714164\n",
       "Name: Size, dtype: float64"
      ]
     },
     "execution_count": 15,
     "metadata": {},
     "output_type": "execute_result"
    }
   ],
   "source": [
    "stores_by_type['C'].describe()"
   ]
  },
  {
   "cell_type": "markdown",
   "metadata": {},
   "source": [
    "Ahora deberíamos hacer lo mismo con los datos que se identifican en el fichero <b>train.csv</b>. Este fichero contiene los datos de las ventas por departamento y tienda por semanas, sabiéndose además si cada semana es un período vacacional o no.\n"
   ]
  },
  {
   "cell_type": "code",
   "execution_count": 16,
   "metadata": {},
   "outputs": [
    {
     "data": {
      "text/html": [
       "<div>\n",
       "<style>\n",
       "    .dataframe thead tr:only-child th {\n",
       "        text-align: right;\n",
       "    }\n",
       "\n",
       "    .dataframe thead th {\n",
       "        text-align: left;\n",
       "    }\n",
       "\n",
       "    .dataframe tbody tr th {\n",
       "        vertical-align: top;\n",
       "    }\n",
       "</style>\n",
       "<table border=\"1\" class=\"dataframe\">\n",
       "  <thead>\n",
       "    <tr style=\"text-align: right;\">\n",
       "      <th></th>\n",
       "      <th>Store</th>\n",
       "      <th>Dept</th>\n",
       "      <th>Date</th>\n",
       "      <th>Weekly_Sales</th>\n",
       "      <th>IsHoliday</th>\n",
       "    </tr>\n",
       "  </thead>\n",
       "  <tbody>\n",
       "    <tr>\n",
       "      <th>0</th>\n",
       "      <td>1</td>\n",
       "      <td>1</td>\n",
       "      <td>2010-02-05</td>\n",
       "      <td>24924.50</td>\n",
       "      <td>False</td>\n",
       "    </tr>\n",
       "    <tr>\n",
       "      <th>1</th>\n",
       "      <td>1</td>\n",
       "      <td>1</td>\n",
       "      <td>2010-02-12</td>\n",
       "      <td>46039.49</td>\n",
       "      <td>True</td>\n",
       "    </tr>\n",
       "    <tr>\n",
       "      <th>2</th>\n",
       "      <td>1</td>\n",
       "      <td>1</td>\n",
       "      <td>2010-02-19</td>\n",
       "      <td>41595.55</td>\n",
       "      <td>False</td>\n",
       "    </tr>\n",
       "  </tbody>\n",
       "</table>\n",
       "</div>"
      ],
      "text/plain": [
       "   Store  Dept        Date  Weekly_Sales  IsHoliday\n",
       "0      1     1  2010-02-05      24924.50      False\n",
       "1      1     1  2010-02-12      46039.49       True\n",
       "2      1     1  2010-02-19      41595.55      False"
      ]
     },
     "execution_count": 16,
     "metadata": {},
     "output_type": "execute_result"
    }
   ],
   "source": [
    "url = \"https://raw.githubusercontent.com/ccolado/master-big-data-walmart/master/walmart-data/train.csv\"\n",
    "walmart_data = pd.read_table(url,sep=',')\n",
    "walmart_data.head(3)"
   ]
  },
  {
   "cell_type": "markdown",
   "metadata": {},
   "source": [
    "Haciendo una rápida inspección, podemos ver que no hay datos repetidos de venta en la tupla Tienda, Departamento y Fecha."
   ]
  },
  {
   "cell_type": "code",
   "execution_count": 17,
   "metadata": {},
   "outputs": [
    {
     "data": {
      "text/html": [
       "<div>\n",
       "<style>\n",
       "    .dataframe thead tr:only-child th {\n",
       "        text-align: right;\n",
       "    }\n",
       "\n",
       "    .dataframe thead th {\n",
       "        text-align: left;\n",
       "    }\n",
       "\n",
       "    .dataframe tbody tr th {\n",
       "        vertical-align: top;\n",
       "    }\n",
       "</style>\n",
       "<table border=\"1\" class=\"dataframe\">\n",
       "  <thead>\n",
       "    <tr style=\"text-align: right;\">\n",
       "      <th></th>\n",
       "      <th>Store</th>\n",
       "      <th>Dept</th>\n",
       "      <th>Date</th>\n",
       "      <th>Weekly_Sales</th>\n",
       "      <th>IsHoliday</th>\n",
       "    </tr>\n",
       "  </thead>\n",
       "  <tbody>\n",
       "  </tbody>\n",
       "</table>\n",
       "</div>"
      ],
      "text/plain": [
       "Empty DataFrame\n",
       "Columns: [Store, Dept, Date, Weekly_Sales, IsHoliday]\n",
       "Index: []"
      ]
     },
     "execution_count": 17,
     "metadata": {},
     "output_type": "execute_result"
    }
   ],
   "source": [
    "walmart_data[walmart_data.duplicated(subset=[\"Store\", \"Dept\", \"Date\"], keep=False)]"
   ]
  },
  {
   "cell_type": "markdown",
   "metadata": {},
   "source": [
    "Sin embargo, tenemos tiendas que tienen ventas negativas. Podrían tratarse de días en los que hay más abonos que ventas, pero entenderemos que las ventas negativas no son posibles, con lo cual esas filas no las vamos a considerar."
   ]
  },
  {
   "cell_type": "code",
   "execution_count": 18,
   "metadata": {},
   "outputs": [
    {
     "data": {
      "text/html": [
       "<div>\n",
       "<style>\n",
       "    .dataframe thead tr:only-child th {\n",
       "        text-align: right;\n",
       "    }\n",
       "\n",
       "    .dataframe thead th {\n",
       "        text-align: left;\n",
       "    }\n",
       "\n",
       "    .dataframe tbody tr th {\n",
       "        vertical-align: top;\n",
       "    }\n",
       "</style>\n",
       "<table border=\"1\" class=\"dataframe\">\n",
       "  <thead>\n",
       "    <tr style=\"text-align: right;\">\n",
       "      <th></th>\n",
       "      <th>Store</th>\n",
       "      <th>Dept</th>\n",
       "      <th>Date</th>\n",
       "      <th>Weekly_Sales</th>\n",
       "      <th>IsHoliday</th>\n",
       "    </tr>\n",
       "  </thead>\n",
       "  <tbody>\n",
       "    <tr>\n",
       "      <th>267730</th>\n",
       "      <td>28</td>\n",
       "      <td>6</td>\n",
       "      <td>2010-10-08</td>\n",
       "      <td>-4988.94</td>\n",
       "      <td>False</td>\n",
       "    </tr>\n",
       "    <tr>\n",
       "      <th>336495</th>\n",
       "      <td>35</td>\n",
       "      <td>47</td>\n",
       "      <td>2011-09-02</td>\n",
       "      <td>-3924.00</td>\n",
       "      <td>False</td>\n",
       "    </tr>\n",
       "    <tr>\n",
       "      <th>417801</th>\n",
       "      <td>45</td>\n",
       "      <td>47</td>\n",
       "      <td>2010-02-26</td>\n",
       "      <td>-1750.00</td>\n",
       "      <td>False</td>\n",
       "    </tr>\n",
       "  </tbody>\n",
       "</table>\n",
       "</div>"
      ],
      "text/plain": [
       "        Store  Dept        Date  Weekly_Sales  IsHoliday\n",
       "267730     28     6  2010-10-08      -4988.94      False\n",
       "336495     35    47  2011-09-02      -3924.00      False\n",
       "417801     45    47  2010-02-26      -1750.00      False"
      ]
     },
     "execution_count": 18,
     "metadata": {},
     "output_type": "execute_result"
    }
   ],
   "source": [
    "walmart_data.sort_values(by='Weekly_Sales').head(3)"
   ]
  },
  {
   "cell_type": "code",
   "execution_count": 19,
   "metadata": {},
   "outputs": [
    {
     "data": {
      "text/html": [
       "<div>\n",
       "<style>\n",
       "    .dataframe thead tr:only-child th {\n",
       "        text-align: right;\n",
       "    }\n",
       "\n",
       "    .dataframe thead th {\n",
       "        text-align: left;\n",
       "    }\n",
       "\n",
       "    .dataframe tbody tr th {\n",
       "        vertical-align: top;\n",
       "    }\n",
       "</style>\n",
       "<table border=\"1\" class=\"dataframe\">\n",
       "  <thead>\n",
       "    <tr style=\"text-align: right;\">\n",
       "      <th></th>\n",
       "      <th>Store</th>\n",
       "      <th>Dept</th>\n",
       "      <th>Date</th>\n",
       "      <th>Weekly_Sales</th>\n",
       "      <th>IsHoliday</th>\n",
       "    </tr>\n",
       "  </thead>\n",
       "  <tbody>\n",
       "    <tr>\n",
       "      <th>262790</th>\n",
       "      <td>27</td>\n",
       "      <td>47</td>\n",
       "      <td>2012-08-24</td>\n",
       "      <td>0.0</td>\n",
       "      <td>False</td>\n",
       "    </tr>\n",
       "    <tr>\n",
       "      <th>394727</th>\n",
       "      <td>42</td>\n",
       "      <td>44</td>\n",
       "      <td>2012-10-05</td>\n",
       "      <td>0.0</td>\n",
       "      <td>False</td>\n",
       "    </tr>\n",
       "    <tr>\n",
       "      <th>25448</th>\n",
       "      <td>3</td>\n",
       "      <td>36</td>\n",
       "      <td>2012-08-17</td>\n",
       "      <td>0.0</td>\n",
       "      <td>False</td>\n",
       "    </tr>\n",
       "  </tbody>\n",
       "</table>\n",
       "</div>"
      ],
      "text/plain": [
       "        Store  Dept        Date  Weekly_Sales  IsHoliday\n",
       "262790     27    47  2012-08-24           0.0      False\n",
       "394727     42    44  2012-10-05           0.0      False\n",
       "25448       3    36  2012-08-17           0.0      False"
      ]
     },
     "execution_count": 19,
     "metadata": {},
     "output_type": "execute_result"
    }
   ],
   "source": [
    "clean_walmart_data = walmart_data[walmart_data.Weekly_Sales >= 0]\n",
    "clean_walmart_data.sort_values(by='Weekly_Sales').head(3)"
   ]
  },
  {
   "cell_type": "markdown",
   "metadata": {},
   "source": [
    "Si sacamos el número de semanas que tenemos en el dataset, podríamos echar un primer vistazo a cuales son el top 10 de tiendas que más venden dentro de Walmart de forma semanal de media, en millones de dolares."
   ]
  },
  {
   "cell_type": "code",
   "execution_count": 20,
   "metadata": {},
   "outputs": [
    {
     "data": {
      "text/plain": [
       "Store\n",
       "20    $2.11M\n",
       "4     $2.09M\n",
       "14    $2.02M\n",
       "13     $2.0M\n",
       "2     $1.93M\n",
       "10     $1.9M\n",
       "27    $1.78M\n",
       "6     $1.56M\n",
       "1     $1.56M\n",
       "39    $1.45M\n",
       "Name: Weekly_Sales_InMillions, dtype: object"
      ]
     },
     "execution_count": 20,
     "metadata": {},
     "output_type": "execute_result"
    }
   ],
   "source": [
    "number_of_weeks = len(clean_walmart_data.Date.unique())\n",
    "top_ten = (clean_walmart_data[[\"Store\", \"Weekly_Sales\"]].groupby([\"Store\"]).sum()/number_of_weeks).sort_values(by='Weekly_Sales', ascending=False).head(10)\n",
    "top_ten['Weekly_Sales_InMillions']='$' + (round(top_ten['Weekly_Sales']/1000000, 2)).astype(str) + 'M'\n",
    "top_ten.Weekly_Sales_InMillions"
   ]
  },
  {
   "cell_type": "markdown",
   "metadata": {},
   "source": [
    "Tambien podríamos ver cuales son los departamentos que más venden globalmente dentro de Walmart, por semana."
   ]
  },
  {
   "cell_type": "code",
   "execution_count": 21,
   "metadata": {},
   "outputs": [
    {
     "data": {
      "text/plain": [
       "Dept\n",
       "92    $3.38M\n",
       "95    $3.14M\n",
       "38    $2.75M\n",
       "72    $2.14M\n",
       "90    $2.04M\n",
       "40    $2.02M\n",
       "2     $1.96M\n",
       "91    $1.52M\n",
       "13    $1.38M\n",
       "8     $1.36M\n",
       "Name: Weekly_Sales_InMillions, dtype: object"
      ]
     },
     "execution_count": 21,
     "metadata": {},
     "output_type": "execute_result"
    }
   ],
   "source": [
    "top_ten_dept = (clean_walmart_data[[\"Dept\", \"Weekly_Sales\"]].groupby([\"Dept\"]).sum()/number_of_weeks).sort_values(by='Weekly_Sales', ascending=False).head(10)\n",
    "top_ten_dept['Weekly_Sales_InMillions']='$' + (round(top_ten_dept['Weekly_Sales']/1000000, 2)).astype(str) + 'M'\n",
    "top_ten_dept.Weekly_Sales_InMillions"
   ]
  },
  {
   "cell_type": "markdown",
   "metadata": {},
   "source": [
    "Ahora vamos a intentar un análisis exploratorio algo más complejo. Vamos a pintar las ventas de las 5 tiendas que más venden, que obtuvimos anteriormente, agrupadas por mes. Para ello, vamos a hacer varios pasos:\n",
    "<ul>\n",
    "  <li>Añadiremos una columna con la fecha formateada en formato fecha, y no en un string como está ahora</li>\n",
    "  <li>Agrupamos por tienda y por fecha, y sumamos las ventas</li>\n",
    "  <li>Después preparamos un gráfico donde creamos 5 lineas diferentes para cada una de las tiendas mencionadas y pintamos su linea, dandole un color diferente, y rotando la fecha para que se vea bien</li>\n",
    "  <li>Hay que fijarse que a nuestro dataset le hemos pasado la función \"resample\", que nos permite, por cada una de las tiendas analizadas, poner los datos en el formato que queremos (mensual) y sumar las cantidades que esten en fechas del mismo mes.\n",
    "</ul>\n"
   ]
  },
  {
   "cell_type": "code",
   "execution_count": 22,
   "metadata": {},
   "outputs": [
    {
     "name": "stderr",
     "output_type": "stream",
     "text": [
      "/home/jmalvarezf/Programas/anaconda3/lib/python3.6/site-packages/ipykernel_launcher.py:1: SettingWithCopyWarning: \n",
      "A value is trying to be set on a copy of a slice from a DataFrame.\n",
      "Try using .loc[row_indexer,col_indexer] = value instead\n",
      "\n",
      "See the caveats in the documentation: http://pandas.pydata.org/pandas-docs/stable/indexing.html#indexing-view-versus-copy\n",
      "  \"\"\"Entry point for launching an IPython kernel.\n"
     ]
    },
    {
     "data": {
      "image/png": "[encoded data removed]",
      "text/plain": [
       "<matplotlib.figure.Figure at 0x7fa8d3608f98>"
      ]
     },
     "metadata": {},
     "output_type": "display_data"
    }
   ],
   "source": [
    "clean_walmart_data[\"Date_Formatted\"] = pd.to_datetime(clean_walmart_data.Date, format='%Y-%m-%d')\n",
    "sales_by_store_and_date = clean_walmart_data[[\"Store\", \"Date_Formatted\", \"Weekly_Sales\"]].groupby([\"Store\", \"Date_Formatted\"]).sum()\n",
    "%matplotlib inline\n",
    "import matplotlib.pyplot as plt\n",
    "import matplotlib.patches as mpatches\n",
    "red_patch = mpatches.Patch(color='red', label='Tienda 20')\n",
    "blue_patch = mpatches.Patch(color='blue', label='Tienda 4')\n",
    "green_patch = mpatches.Patch(color='green', label='Tienda 14')\n",
    "black_patch = mpatches.Patch(color='black', label='Tienda 13')\n",
    "orange_patch = mpatches.Patch(color='orange', label='Tienda 2')\n",
    "store20 = plt.plot(sales_by_store_and_date.loc[20].resample('M').sum(), color=\"red\")\n",
    "store4 = plt.plot(sales_by_store_and_date.loc[4].resample('M').sum(), color=\"blue\")\n",
    "store14 = plt.plot(sales_by_store_and_date.loc[14].resample('M').sum(), color=\"green\")\n",
    "store13 = plt.plot(sales_by_store_and_date.loc[13].resample('M').sum(), color=\"black\")\n",
    "store2 = plt.plot(sales_by_store_and_date.loc[2].resample('M').sum(), color=\"orange\")\n",
    "_= plt.legend(handles=[red_patch, blue_patch, green_patch, black_patch, orange_patch])\n",
    "_= plt.xticks(rotation=90)\n"
   ]
  },
  {
   "cell_type": "markdown",
   "metadata": {},
   "source": [
    "Como podemos ver, las ventas se intensifican muchísimo en Navidad, algo ya esperado, pero también existen otros picos de ventas diferentes. Podríamos hacer un análisis similar con los departamentos para ver si obtenemos algún resultado reseñable."
   ]
  },
  {
   "cell_type": "code",
   "execution_count": 24,
   "metadata": {},
   "outputs": [
    {
     "data": {
      "image/png": "[encoded data removed]",
      "text/plain": [
       "<matplotlib.figure.Figure at 0x7fa8ca9d5b38>"
      ]
     },
     "metadata": {},
     "output_type": "display_data"
    }
   ],
   "source": [
    "sales_by_dpto_and_date = clean_walmart_data[[\"Dept\", \"Date_Formatted\", \"Weekly_Sales\"]].groupby([\"Dept\", \"Date_Formatted\"]).sum()\n",
    "%matplotlib inline\n",
    "red_dpto_patch = mpatches.Patch(color='red', label='Depto 92')\n",
    "blue_dpto_patch = mpatches.Patch(color='blue', label='Depto 95')\n",
    "green_dpto_patch = mpatches.Patch(color='green', label='Depto 38')\n",
    "black_dpto_patch = mpatches.Patch(color='black', label='Depto 72')\n",
    "orange_dpto_patch = mpatches.Patch(color='orange', label='Depto 90')\n",
    "dpto92 = plt.plot(sales_by_dpto_and_date.loc[92].resample('M').sum(), color=\"red\")\n",
    "dpto95 = plt.plot(sales_by_dpto_and_date.loc[95].resample('M').sum(), color=\"blue\")\n",
    "dpto38 = plt.plot(sales_by_dpto_and_date.loc[38].resample('M').sum(), color=\"green\")\n",
    "dpto72 = plt.plot(sales_by_dpto_and_date.loc[72].resample('M').sum(), color=\"black\")\n",
    "dpto90 = plt.plot(sales_by_dpto_and_date.loc[90].resample('M').sum(), color=\"orange\")\n",
    "_= plt.legend(handles=[red_dpto_patch, blue_dpto_patch, green_dpto_patch, black_dpto_patch, orange_dpto_patch])\n",
    "_= plt.xticks(rotation=90)"
   ]
  },
  {
   "cell_type": "markdown",
   "metadata": {},
   "source": [
    "Y como podemos ver, el departamento 72 tiene unas ventas increiblemente grandes en Navidades en comparación con el resto del año, con lo que debe tener algo que ver con la Navidad."
   ]
  },
  {
   "cell_type": "markdown",
   "metadata": {},
   "source": [
    "Por último cargaremos el tercer fichero"
   ]
  },
  {
   "cell_type": "code",
   "execution_count": 25,
   "metadata": {},
   "outputs": [
    {
     "data": {
      "text/html": [
       "<div>\n",
       "<style>\n",
       "    .dataframe thead tr:only-child th {\n",
       "        text-align: right;\n",
       "    }\n",
       "\n",
       "    .dataframe thead th {\n",
       "        text-align: left;\n",
       "    }\n",
       "\n",
       "    .dataframe tbody tr th {\n",
       "        vertical-align: top;\n",
       "    }\n",
       "</style>\n",
       "<table border=\"1\" class=\"dataframe\">\n",
       "  <thead>\n",
       "    <tr style=\"text-align: right;\">\n",
       "      <th></th>\n",
       "      <th>Store</th>\n",
       "      <th>Date</th>\n",
       "      <th>Temperature</th>\n",
       "      <th>Fuel_Price</th>\n",
       "      <th>MarkDown1</th>\n",
       "      <th>MarkDown2</th>\n",
       "      <th>MarkDown3</th>\n",
       "      <th>MarkDown4</th>\n",
       "      <th>MarkDown5</th>\n",
       "      <th>CPI</th>\n",
       "      <th>Unemployment</th>\n",
       "      <th>IsHoliday</th>\n",
       "    </tr>\n",
       "  </thead>\n",
       "  <tbody>\n",
       "    <tr>\n",
       "      <th>0</th>\n",
       "      <td>1</td>\n",
       "      <td>2010-02-05</td>\n",
       "      <td>42.31</td>\n",
       "      <td>2.572</td>\n",
       "      <td>NaN</td>\n",
       "      <td>NaN</td>\n",
       "      <td>NaN</td>\n",
       "      <td>NaN</td>\n",
       "      <td>NaN</td>\n",
       "      <td>211.096358</td>\n",
       "      <td>8.106</td>\n",
       "      <td>False</td>\n",
       "    </tr>\n",
       "    <tr>\n",
       "      <th>1</th>\n",
       "      <td>1</td>\n",
       "      <td>2010-02-12</td>\n",
       "      <td>38.51</td>\n",
       "      <td>2.548</td>\n",
       "      <td>NaN</td>\n",
       "      <td>NaN</td>\n",
       "      <td>NaN</td>\n",
       "      <td>NaN</td>\n",
       "      <td>NaN</td>\n",
       "      <td>211.242170</td>\n",
       "      <td>8.106</td>\n",
       "      <td>True</td>\n",
       "    </tr>\n",
       "    <tr>\n",
       "      <th>2</th>\n",
       "      <td>1</td>\n",
       "      <td>2010-02-19</td>\n",
       "      <td>39.93</td>\n",
       "      <td>2.514</td>\n",
       "      <td>NaN</td>\n",
       "      <td>NaN</td>\n",
       "      <td>NaN</td>\n",
       "      <td>NaN</td>\n",
       "      <td>NaN</td>\n",
       "      <td>211.289143</td>\n",
       "      <td>8.106</td>\n",
       "      <td>False</td>\n",
       "    </tr>\n",
       "  </tbody>\n",
       "</table>\n",
       "</div>"
      ],
      "text/plain": [
       "   Store        Date  Temperature  Fuel_Price  MarkDown1  MarkDown2  \\\n",
       "0      1  2010-02-05        42.31       2.572        NaN        NaN   \n",
       "1      1  2010-02-12        38.51       2.548        NaN        NaN   \n",
       "2      1  2010-02-19        39.93       2.514        NaN        NaN   \n",
       "\n",
       "   MarkDown3  MarkDown4  MarkDown5         CPI  Unemployment  IsHoliday  \n",
       "0        NaN        NaN        NaN  211.096358         8.106      False  \n",
       "1        NaN        NaN        NaN  211.242170         8.106       True  \n",
       "2        NaN        NaN        NaN  211.289143         8.106      False  "
      ]
     },
     "execution_count": 25,
     "metadata": {},
     "output_type": "execute_result"
    }
   ],
   "source": [
    "import pandas as pd\n",
    "url = \"https://raw.githubusercontent.com/ccolado/master-big-data-walmart/master/walmart-data/features.csv\"\n",
    "features = pd.read_table(url,sep=',',parse_dates=True)\n",
    "features.head(3)"
   ]
  },
  {
   "cell_type": "code",
   "execution_count": 26,
   "metadata": {},
   "outputs": [
    {
     "data": {
      "text/plain": [
       "False"
      ]
     },
     "execution_count": 26,
     "metadata": {},
     "output_type": "execute_result"
    }
   ],
   "source": [
    "dia_x=pd.Timestamp('2010-03-15')\n",
    "dia_x\n",
    "features['Date'][0]>features['Date'][1]"
   ]
  },
  {
   "cell_type": "code",
   "execution_count": 27,
   "metadata": {},
   "outputs": [
    {
     "data": {
      "text/plain": [
       "Store           421570\n",
       "Dept            421570\n",
       "Date            421570\n",
       "Weekly_Sales    421570\n",
       "IsHoliday       421570\n",
       "dtype: int64"
      ]
     },
     "execution_count": 27,
     "metadata": {},
     "output_type": "execute_result"
    }
   ],
   "source": [
    "walmart_data.count()"
   ]
  },
  {
   "cell_type": "code",
   "execution_count": 28,
   "metadata": {},
   "outputs": [
    {
     "data": {
      "text/plain": [
       "Store           8190\n",
       "Date            8190\n",
       "Temperature     8190\n",
       "Fuel_Price      8190\n",
       "MarkDown1       4032\n",
       "MarkDown2       2921\n",
       "MarkDown3       3613\n",
       "MarkDown4       3464\n",
       "MarkDown5       4050\n",
       "CPI             7605\n",
       "Unemployment    7605\n",
       "IsHoliday       8190\n",
       "dtype: int64"
      ]
     },
     "execution_count": 28,
     "metadata": {},
     "output_type": "execute_result"
    }
   ],
   "source": [
    "features.count()"
   ]
  },
  {
   "cell_type": "markdown",
   "metadata": {},
   "source": [
    "Para intentar sacar algun dato interesante, vamos a hacer un \"merge\" donde vamos a poner en cada una de las filas las columnas correspondientes al fichero de \"features\", para poder sacar datos en función de la temperatura del dia, o los precios del petróleo, etc. Además, comprobamos que el número de filas resultante es el total que teniamos antes en el dataset de walmart."
   ]
  },
  {
   "cell_type": "code",
   "execution_count": 29,
   "metadata": {},
   "outputs": [
    {
     "data": {
      "text/html": [
       "<div>\n",
       "<style>\n",
       "    .dataframe thead tr:only-child th {\n",
       "        text-align: right;\n",
       "    }\n",
       "\n",
       "    .dataframe thead th {\n",
       "        text-align: left;\n",
       "    }\n",
       "\n",
       "    .dataframe tbody tr th {\n",
       "        vertical-align: top;\n",
       "    }\n",
       "</style>\n",
       "<table border=\"1\" class=\"dataframe\">\n",
       "  <thead>\n",
       "    <tr style=\"text-align: right;\">\n",
       "      <th></th>\n",
       "      <th>Store</th>\n",
       "      <th>Dept</th>\n",
       "      <th>Date</th>\n",
       "      <th>Weekly_Sales</th>\n",
       "      <th>IsHoliday</th>\n",
       "      <th>Temperature</th>\n",
       "      <th>Fuel_Price</th>\n",
       "      <th>MarkDown1</th>\n",
       "      <th>MarkDown2</th>\n",
       "      <th>MarkDown3</th>\n",
       "      <th>MarkDown4</th>\n",
       "      <th>MarkDown5</th>\n",
       "      <th>CPI</th>\n",
       "      <th>Unemployment</th>\n",
       "    </tr>\n",
       "  </thead>\n",
       "  <tbody>\n",
       "    <tr>\n",
       "      <th>0</th>\n",
       "      <td>1</td>\n",
       "      <td>1</td>\n",
       "      <td>2010-02-05</td>\n",
       "      <td>24924.50</td>\n",
       "      <td>False</td>\n",
       "      <td>42.31</td>\n",
       "      <td>2.572</td>\n",
       "      <td>NaN</td>\n",
       "      <td>NaN</td>\n",
       "      <td>NaN</td>\n",
       "      <td>NaN</td>\n",
       "      <td>NaN</td>\n",
       "      <td>211.096358</td>\n",
       "      <td>8.106</td>\n",
       "    </tr>\n",
       "    <tr>\n",
       "      <th>1</th>\n",
       "      <td>1</td>\n",
       "      <td>2</td>\n",
       "      <td>2010-02-05</td>\n",
       "      <td>50605.27</td>\n",
       "      <td>False</td>\n",
       "      <td>42.31</td>\n",
       "      <td>2.572</td>\n",
       "      <td>NaN</td>\n",
       "      <td>NaN</td>\n",
       "      <td>NaN</td>\n",
       "      <td>NaN</td>\n",
       "      <td>NaN</td>\n",
       "      <td>211.096358</td>\n",
       "      <td>8.106</td>\n",
       "    </tr>\n",
       "    <tr>\n",
       "      <th>2</th>\n",
       "      <td>1</td>\n",
       "      <td>3</td>\n",
       "      <td>2010-02-05</td>\n",
       "      <td>13740.12</td>\n",
       "      <td>False</td>\n",
       "      <td>42.31</td>\n",
       "      <td>2.572</td>\n",
       "      <td>NaN</td>\n",
       "      <td>NaN</td>\n",
       "      <td>NaN</td>\n",
       "      <td>NaN</td>\n",
       "      <td>NaN</td>\n",
       "      <td>211.096358</td>\n",
       "      <td>8.106</td>\n",
       "    </tr>\n",
       "  </tbody>\n",
       "</table>\n",
       "</div>"
      ],
      "text/plain": [
       "   Store  Dept        Date  Weekly_Sales  IsHoliday  Temperature  Fuel_Price  \\\n",
       "0      1     1  2010-02-05      24924.50      False        42.31       2.572   \n",
       "1      1     2  2010-02-05      50605.27      False        42.31       2.572   \n",
       "2      1     3  2010-02-05      13740.12      False        42.31       2.572   \n",
       "\n",
       "   MarkDown1  MarkDown2  MarkDown3  MarkDown4  MarkDown5         CPI  \\\n",
       "0        NaN        NaN        NaN        NaN        NaN  211.096358   \n",
       "1        NaN        NaN        NaN        NaN        NaN  211.096358   \n",
       "2        NaN        NaN        NaN        NaN        NaN  211.096358   \n",
       "\n",
       "   Unemployment  \n",
       "0         8.106  \n",
       "1         8.106  \n",
       "2         8.106  "
      ]
     },
     "execution_count": 29,
     "metadata": {},
     "output_type": "execute_result"
    }
   ],
   "source": [
    "dataset_merged = pd.merge(walmart_data, features, on=[\"Store\", \"Date\", \"IsHoliday\"])\n",
    "dataset_merged.head(3)"
   ]
  },
  {
   "cell_type": "code",
   "execution_count": 30,
   "metadata": {},
   "outputs": [
    {
     "data": {
      "text/plain": [
       "Store           421570\n",
       "Dept            421570\n",
       "Date            421570\n",
       "Weekly_Sales    421570\n",
       "IsHoliday       421570\n",
       "Temperature     421570\n",
       "Fuel_Price      421570\n",
       "MarkDown1       150681\n",
       "MarkDown2       111248\n",
       "MarkDown3       137091\n",
       "MarkDown4       134967\n",
       "MarkDown5       151432\n",
       "CPI             421570\n",
       "Unemployment    421570\n",
       "dtype: int64"
      ]
     },
     "execution_count": 30,
     "metadata": {},
     "output_type": "execute_result"
    }
   ],
   "source": [
    "dataset_merged.count()"
   ]
  },
  {
   "cell_type": "code",
   "execution_count": 31,
   "metadata": {},
   "outputs": [
    {
     "data": {
      "text/html": [
       "<div>\n",
       "<style>\n",
       "    .dataframe thead tr:only-child th {\n",
       "        text-align: right;\n",
       "    }\n",
       "\n",
       "    .dataframe thead th {\n",
       "        text-align: left;\n",
       "    }\n",
       "\n",
       "    .dataframe tbody tr th {\n",
       "        vertical-align: top;\n",
       "    }\n",
       "</style>\n",
       "<table border=\"1\" class=\"dataframe\">\n",
       "  <thead>\n",
       "    <tr style=\"text-align: right;\">\n",
       "      <th></th>\n",
       "      <th>Store</th>\n",
       "      <th>Dept</th>\n",
       "      <th>Date</th>\n",
       "      <th>Weekly_Sales</th>\n",
       "      <th>IsHoliday</th>\n",
       "      <th>Temperature</th>\n",
       "      <th>Fuel_Price</th>\n",
       "      <th>MarkDown1</th>\n",
       "      <th>MarkDown2</th>\n",
       "      <th>MarkDown3</th>\n",
       "      <th>MarkDown4</th>\n",
       "      <th>MarkDown5</th>\n",
       "      <th>CPI</th>\n",
       "      <th>Unemployment</th>\n",
       "    </tr>\n",
       "  </thead>\n",
       "  <tbody>\n",
       "    <tr>\n",
       "      <th>90645</th>\n",
       "      <td>10</td>\n",
       "      <td>72</td>\n",
       "      <td>2010-11-26</td>\n",
       "      <td>693099.36</td>\n",
       "      <td>True</td>\n",
       "      <td>55.33</td>\n",
       "      <td>3.162</td>\n",
       "      <td>NaN</td>\n",
       "      <td>NaN</td>\n",
       "      <td>NaN</td>\n",
       "      <td>NaN</td>\n",
       "      <td>NaN</td>\n",
       "      <td>126.669267</td>\n",
       "      <td>9.003</td>\n",
       "    </tr>\n",
       "    <tr>\n",
       "      <th>337053</th>\n",
       "      <td>35</td>\n",
       "      <td>72</td>\n",
       "      <td>2011-11-25</td>\n",
       "      <td>649770.18</td>\n",
       "      <td>True</td>\n",
       "      <td>47.88</td>\n",
       "      <td>3.492</td>\n",
       "      <td>1333.24</td>\n",
       "      <td>NaN</td>\n",
       "      <td>58563.24</td>\n",
       "      <td>20.97</td>\n",
       "      <td>6386.86</td>\n",
       "      <td>140.421786</td>\n",
       "      <td>8.745</td>\n",
       "    </tr>\n",
       "    <tr>\n",
       "      <th>94393</th>\n",
       "      <td>10</td>\n",
       "      <td>72</td>\n",
       "      <td>2011-11-25</td>\n",
       "      <td>630999.19</td>\n",
       "      <td>True</td>\n",
       "      <td>60.68</td>\n",
       "      <td>3.760</td>\n",
       "      <td>174.72</td>\n",
       "      <td>329.0</td>\n",
       "      <td>141630.61</td>\n",
       "      <td>79.00</td>\n",
       "      <td>1009.98</td>\n",
       "      <td>129.836400</td>\n",
       "      <td>7.874</td>\n",
       "    </tr>\n",
       "  </tbody>\n",
       "</table>\n",
       "</div>"
      ],
      "text/plain": [
       "        Store  Dept        Date  Weekly_Sales  IsHoliday  Temperature  \\\n",
       "90645      10    72  2010-11-26     693099.36       True        55.33   \n",
       "337053     35    72  2011-11-25     649770.18       True        47.88   \n",
       "94393      10    72  2011-11-25     630999.19       True        60.68   \n",
       "\n",
       "        Fuel_Price  MarkDown1  MarkDown2  MarkDown3  MarkDown4  MarkDown5  \\\n",
       "90645        3.162        NaN        NaN        NaN        NaN        NaN   \n",
       "337053       3.492    1333.24        NaN   58563.24      20.97    6386.86   \n",
       "94393        3.760     174.72      329.0  141630.61      79.00    1009.98   \n",
       "\n",
       "               CPI  Unemployment  \n",
       "90645   126.669267         9.003  \n",
       "337053  140.421786         8.745  \n",
       "94393   129.836400         7.874  "
      ]
     },
     "execution_count": 31,
     "metadata": {},
     "output_type": "execute_result"
    }
   ],
   "source": [
    "clean_walmart_dataset = dataset_merged[dataset_merged.Weekly_Sales >= 0]\n",
    "clean_walmart_dataset.sort_values(by='Weekly_Sales', ascending=False).head(3)"
   ]
  },
  {
   "cell_type": "code",
   "execution_count": 36,
   "metadata": {},
   "outputs": [
    {
     "name": "stderr",
     "output_type": "stream",
     "text": [
      "/home/jmalvarezf/Programas/anaconda3/lib/python3.6/site-packages/ipykernel_launcher.py:1: SettingWithCopyWarning: \n",
      "A value is trying to be set on a copy of a slice from a DataFrame.\n",
      "Try using .loc[row_indexer,col_indexer] = value instead\n",
      "\n",
      "See the caveats in the documentation: http://pandas.pydata.org/pandas-docs/stable/indexing.html#indexing-view-versus-copy\n",
      "  \"\"\"Entry point for launching an IPython kernel.\n"
     ]
    },
    {
     "data": {
      "image/png": "[encoded data removed]",
      "text/plain": [
       "<matplotlib.figure.Figure at 0x7fa8c6db7320>"
      ]
     },
     "metadata": {},
     "output_type": "display_data"
    }
   ],
   "source": [
    "clean_walmart_dataset[\"Date_Formatted\"] = pd.to_datetime(clean_walmart_dataset.Date, format='%Y-%m-%d')\n",
    "sales_complete_by_store_and_date = clean_walmart_dataset[[\"Store\", \"Date_Formatted\", \"Weekly_Sales\"]].groupby([\"Store\", \"Date_Formatted\"]).sum()\n",
    "mean_fuelprice_by_date = clean_walmart_dataset[[\"Date_Formatted\", \"Fuel_Price\"]].groupby([\"Date_Formatted\"]).mean()\n",
    "%matplotlib inline\n",
    "import matplotlib.pyplot as plt\n",
    "import matplotlib.patches as mpatches\n",
    "fig, ax1 = plt.subplots()\n",
    "_= plt.xticks(rotation=90)\n",
    "red_patch = mpatches.Patch(color='red', label='Tienda 20')\n",
    "blue_patch = mpatches.Patch(color='blue', label='Tienda 4')\n",
    "green_patch = mpatches.Patch(color='green', label='Tienda 14')\n",
    "black_patch = mpatches.Patch(color='black', label='Tienda 13')\n",
    "orange_patch = mpatches.Patch(color='orange', label='Tienda 2')\n",
    "yellow_patch = mpatches.Patch(color='yellow', label='Precio del combustible')\n",
    "ax1.set_xlabel('Fechas')\n",
    "ax1.set_ylabel('Ventas')\n",
    "store20 = plt.plot(sales_complete_by_store_and_date.loc[20].resample('M').sum(), color=\"red\")\n",
    "store4 = plt.plot(sales_complete_by_store_and_date.loc[4].resample('M').sum(), color=\"blue\")\n",
    "store14 = plt.plot(sales_complete_by_store_and_date.loc[14].resample('M').sum(), color=\"green\")\n",
    "store13 = plt.plot(sales_complete_by_store_and_date.loc[13].resample('M').sum(), color=\"black\")\n",
    "store2 = plt.plot(sales_complete_by_store_and_date.loc[2].resample('M').sum(), color=\"orange\")\n",
    "ax2 = ax1.twinx()\n",
    "ax2.set_ylabel('Precio medio combustible', color='yellow')\n",
    "ax2.tick_params('y', colors='black')\n",
    "mean_fuel_price = ax2.plot(mean_fuelprice_by_date.resample('M').mean(), color=\"yellow\")\n",
    "#_ = fig.tight_layout()\n",
    "_= plt.legend(handles=[red_patch, blue_patch, green_patch, black_patch, orange_patch, yellow_patch])\n",
    "plt.show()"
   ]
  },
  {
   "cell_type": "code",
   "execution_count": 37,
   "metadata": {},
   "outputs": [
    {
     "data": {
      "image/png": "[encoded data removed]",
      "text/plain": [
       "<matplotlib.figure.Figure at 0x7fa8ca94f978>"
      ]
     },
     "metadata": {},
     "output_type": "display_data"
    }
   ],
   "source": [
    "sales_complete_by_dpto_and_date = clean_walmart_dataset[[\"Dept\", \"Date_Formatted\", \"Weekly_Sales\"]].groupby([\"Dept\", \"Date_Formatted\"]).sum()\n",
    "%matplotlib inline\n",
    "import matplotlib.pyplot as plt\n",
    "import matplotlib.patches as mpatches\n",
    "fig, ax1 = plt.subplots()\n",
    "_= plt.xticks(rotation=90)\n",
    "red_dpto_patch = mpatches.Patch(color='red', label='Depto 92')\n",
    "blue_dpto_patch = mpatches.Patch(color='blue', label='Depto 95')\n",
    "green_dpto_patch = mpatches.Patch(color='green', label='Depto 38')\n",
    "black_dpto_patch = mpatches.Patch(color='black', label='Depto 72')\n",
    "orange_dpto_patch = mpatches.Patch(color='orange', label='Depto 90')\n",
    "yellow_dpto_patch = mpatches.Patch(color='yellow', label='Precio del combustible')\n",
    "ax1.set_xlabel('Fechas')\n",
    "ax1.set_ylabel('Ventas')\n",
    "dpto92 = plt.plot(sales_by_dpto_and_date.loc[92].resample('M').sum(), color=\"red\")\n",
    "dpto95 = plt.plot(sales_by_dpto_and_date.loc[95].resample('M').sum(), color=\"blue\")\n",
    "dpto38 = plt.plot(sales_by_dpto_and_date.loc[38].resample('M').sum(), color=\"green\")\n",
    "dpto72 = plt.plot(sales_by_dpto_and_date.loc[72].resample('M').sum(), color=\"black\")\n",
    "dpto90 = plt.plot(sales_by_dpto_and_date.loc[90].resample('M').sum(), color=\"orange\")\n",
    "ax2 = ax1.twinx()\n",
    "ax2.set_ylabel('Precio medio combustible', color='yellow')\n",
    "ax2.tick_params('y', colors='black')\n",
    "mean_fuel_price = ax2.plot(mean_fuelprice_by_date.resample('M').mean(), color=\"yellow\")"
   ]
  },
  {
   "cell_type": "code",
   "execution_count": null,
   "metadata": {
    "collapsed": true
   },
   "outputs": [],
   "source": [
    "import seaborn as sns\n"
   ]
  },
  {
   "cell_type": "markdown",
   "metadata": {},
   "source": [
    "<h1>Fase IV. Modelado</h1>"
   ]
  },
  {
   "cell_type": "markdown",
   "metadata": {},
   "source": [
    "<h1>Fase V. Evaluación</h1>"
   ]
  },
  {
   "cell_type": "markdown",
   "metadata": {},
   "source": [
    "<h1>Fase VI. Despliegue</h1>"
   ]
  }
 ],
 "metadata": {
  "kernelspec": {
   "display_name": "Python 3",
   "language": "python",
   "name": "python3"
  },
  "language_info": {
   "codemirror_mode": {
    "name": "ipython",
    "version": 3
   },
   "file_extension": ".py",
   "mimetype": "text/x-python",
   "name": "python",
   "nbconvert_exporter": "python",
   "pygments_lexer": "ipython3",
   "version": "3.6.2"
  }
 },
 "nbformat": 4,
 "nbformat_minor": 2
}
