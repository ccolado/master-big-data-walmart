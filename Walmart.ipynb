{
 "cells": [
  {
   "cell_type": "markdown",
   "metadata": {
    "collapsed": true
   },
   "source": [
    "<h1>Práctica de Fundamentos de Data Science</h1>\n",
    "<p/>\n",
    "<table border>\n",
    "<tr><td>Alumno</td><td>email</td><td>Teléfono</td></ur>\n",
    "<tr><td>José María Álvarez</td><td>josemaria.alvarezfernandez@elcorteingles.es</td><td>+34 647 471 225</td></ur>\n",
    "<tr><td>Adolfo González</td><td>adolfo.gonzalez@elcorteingles.es</td><td>+34 609 964 414</td></ur>\n",
    "<tr><td>César Colado</td><td>cesar.colado@elcorteingles.es</td><td>+34 661 415 555</td></ur>\n",
    "</table>"
   ]
  },
  {
   "cell_type": "markdown",
   "metadata": {},
   "source": [
    "<h1>Días de venta especial en un 'retailer'</h1>\n",
    "<p/>\n",
    "En un retailer como <b1>El Corte Inglés</b1>, llamamos días de venta especial a períodos como la camapaña navideña, la Semana Santa, un Black Friday, Las Rebajas de Enero, etc.\n",
    "<p/>\n",
    "Durante estos períodos la venta suele múltiplicarse, pero no es siempre lineal y la tendencia no siempre es fácil de predecir. Son muchas las incógnitas que debemos resolver para poder estimar el 'stock' del que se debe hacer provisión en la tienda, el número de empleados que debemos tener en cada departamento en los días de más afluencia de clientes, número de servidores o ancho de banda que debemos tener preparados para resolver toda la demanda online, etc.\n",
    "<p/>\n",
    "Como es de nuestro interés, hemos seleccionado un conjunto de datos de una empresa de retail 'un poco' mayor que El Corte Inglés, con origen en Estados Unidos y que se enfrenta a problemas similares."
   ]
  },
  {
   "cell_type": "markdown",
   "metadata": {},
   "source": [
    "<img src=\"http://media.graytvinc.com/images/810*455/WRM+Walmart+WEB.jpg\"\n",
    "alt=\"Imágen de Walmart\" height=\"400\" width=\"4000\">\n"
   ]
  },
  {
   "cell_type": "markdown",
   "metadata": {},
   "source": [
    "Walmart es un 'retailer' con origen en Estados Unidos que emplea a más de dos millones de empleados. Como El Corte Inglés, se enfrenta a un desafío en cada período de venta especial para dimensionar sus recursos de forma eficiente."
   ]
  },
  {
   "cell_type": "markdown",
   "metadata": {},
   "source": [
    "<img src=\"https://boygeniusreport.files.wordpress.com/2015/11/black-friday-shoppers1.jpg?quality=98&strip=all\"\n",
    "alt=\"Recursos mal estimados en Walmart\"/>"
   ]
  },
  {
   "cell_type": "markdown",
   "metadata": {},
   "source": [
    "Hemos conseguido un conjunto de datos de Walmart que trataremos de utilizar para hacer un análisis de las necesidades de este \"retailer\" en periódos de venta especial.</p>\n",
    "<a target=\"_blank\" href=\"https://www.kaggle.com/c/walmart-recruiting-store-sales-forecasting\">Datos de Walmart</a>"
   ]
  },
  {
   "cell_type": "markdown",
   "metadata": {},
   "source": [
    "¿Cómo abordar este problema de negocio? La propuesta es aprender de los datos, mediante minería de datos y descubrimiento de conocimiento, para lo que aplicaremos la metodología estándar de facto: \n",
    "<p>CRISP-DM</p> (\"Cross Industry Standard Process for Data Mining\")<p/>\n",
    "<img src=\"https://upload.wikimedia.org/wikipedia/commons/thumb/b/b9/CRISP-DM_Process_Diagram.png/1024px-CRISP-DM_Process_Diagram.png\" alt=\"diagrama explicativo de CRISP-DM\" height=\"400\" width=\"400\"/><p/>\n",
    "Esta metodología iterativa, diferencia seis fases en cada ciclo, a saber:<p/>\n",
    "<li>Comprensión del negocio</li>\n",
    "<li>Comprensión de datos</li>\n",
    "<li>Preparación de datos</li>\n",
    "<li>Modelado</li>\n",
    "<li>Evaluación</li>\n",
    "<li>Despliegue</li>\n"
   ]
  },
  {
   "cell_type": "markdown",
   "metadata": {},
   "source": [
    "<h1>Fase I. Comprensión del negocio</h1>\n",
    "//FIXME.ccolado Relacionar con la primera parte y la comprensión de los datos de la fase II\n",
    "\n",
    "El objetivo es tratar de ser capaces de tener una previsión de ventas para poder hacer el acopio de recursos que necesitamos por tienda y departamento.\n"
   ]
  },
  {
   "cell_type": "markdown",
   "metadata": {},
   "source": [
    "<h1>Fase II. Comprensión de los datos</h1>\n",
    "\n",
    "Tenemos datos de 45 tiendas localizadas en diferentes zonas geográficas. En cada tienda tenemos unos departamentos concretos. Además, tendremos en cuenta ciertas acciones promocionales que Walmart lleva a cabo a lo largo del año.\n",
    "\n",
    "\n"
   ]
  },
  {
   "cell_type": "markdown",
   "metadata": {},
   "source": [
    "<h1>Fase III. Preparación de datos</h1>"
   ]
  },
  {
   "cell_type": "markdown",
   "metadata": {},
   "source": [
    "<h1>Fase IV. Modelado</h1>"
   ]
  },
  {
   "cell_type": "markdown",
   "metadata": {},
   "source": [
    "<h1>Fase V. Evaluación</h1>"
   ]
  },
  {
   "cell_type": "markdown",
   "metadata": {},
   "source": [
    "<h1>Fase VI. Despliegue</h1>"
   ]
  }
 ],
 "metadata": {
  "kernelspec": {
   "display_name": "Python 3",
   "language": "python",
   "name": "python3"
  },
  "language_info": {
   "codemirror_mode": {
    "name": "ipython",
    "version": 3
   },
   "file_extension": ".py",
   "mimetype": "text/x-python",
   "name": "python",
   "nbconvert_exporter": "python",
   "pygments_lexer": "ipython3",
   "version": "3.6.2"
  }
 },
 "nbformat": 4,
 "nbformat_minor": 2
}
